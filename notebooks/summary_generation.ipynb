{
 "cells": [
  {
   "cell_type": "code",
   "execution_count": 9,
   "metadata": {},
   "outputs": [],
   "source": [
    "from transformers import BartForConditionalGeneration, BartTokenizer\n",
    "import whisper\n",
    "import os\n",
    "\n",
    "tokenizer = BartTokenizer.from_pretrained('facebook/bart-large-cnn')\n",
    "model = BartForConditionalGeneration.from_pretrained('facebook/bart-large-cnn')\n",
    "\n",
    "def get_audio_transcript(directory, file_name):\n",
    "    model = whisper.load_model(\"base\")\n",
    "    audio = os.path.join(directory, file_name)\n",
    "    result = model.transcribe(audio)\n",
    "\n",
    "    transcript = result[\"text\"]\n",
    "\n",
    "    return transcript\n",
    "\n",
    "def tokenize_transcript(transcript):\n",
    "\n",
    "    inputs = tokenizer(\"Summarize the following conversation.\\n\\n### Input:\\n\" + transcript + \"\\n\\n### Summary:\\n\", return_tensors=\"pt\", max_length=1024, truncation=True)\n",
    "    \n",
    "    return inputs\n",
    "\n",
    "def generate_summary(inputs):\n",
    "    generated_ids = model.generate(inputs['input_ids'], num_beams=4, max_length=150, early_stopping=True)\n",
    "    return generated_ids\n",
    "\n",
    "def process_audio_and_summarize(directory, file_name):\n",
    "    transcript = get_audio_transcript(directory, file_name)\n",
    "    inputs = tokenize_transcript(transcript)\n",
    "\n",
    "    generated_ids = generate_summary(inputs)\n",
    "    generated_summary = tokenizer.decode(generated_ids[0], skip_special_tokens=True)\n",
    "\n",
    "    return generated_summary"
   ]
  },
  {
   "cell_type": "code",
   "execution_count": 10,
   "metadata": {},
   "outputs": [],
   "source": [
    "audio_directiory = '../data/audio'\n",
    "audio_file = '000000.mp3'\n",
    "\n",
    "generated_summary = process_audio_and_summarize(audio_directiory, audio_file)"
   ]
  },
  {
   "cell_type": "code",
   "execution_count": 11,
   "metadata": {},
   "outputs": [
    {
     "name": "stdout",
     "output_type": "stream",
     "text": [
      "The Castle of Athlean was the residence of the still beautiful widow and the children of the noble Earl of AthLean. The Earl was slain by the hand of Malcolm, a neighboring chief, proud, oppressive, revengeful, and still residing in all the pomp of feudal greatness. Overwhelmed by the news, Matilda forebore to sacrifice the lives of her few remaining people to a feeble attempted retaliation.\n"
     ]
    }
   ],
   "source": [
    "print(generated_summary)"
   ]
  },
  {
   "cell_type": "code",
   "execution_count": null,
   "metadata": {},
   "outputs": [],
   "source": []
  }
 ],
 "metadata": {
  "kernelspec": {
   "display_name": "deepl",
   "language": "python",
   "name": "python3"
  },
  "language_info": {
   "codemirror_mode": {
    "name": "ipython",
    "version": 3
   },
   "file_extension": ".py",
   "mimetype": "text/x-python",
   "name": "python",
   "nbconvert_exporter": "python",
   "pygments_lexer": "ipython3",
   "version": "3.12.3"
  }
 },
 "nbformat": 4,
 "nbformat_minor": 2
}
